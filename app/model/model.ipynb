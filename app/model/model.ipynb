{
 "cells": [
  {
   "cell_type": "code",
   "execution_count": 53,
   "metadata": {},
   "outputs": [],
   "source": [
    "# import necessary libraries\n",
    "from pyspark import SparkContext\n",
    "from pyspark.sql import SparkSession\n",
    "\n",
    "# instantiate SparkSession object\n",
    "spark = SparkSession.builder.master(\"local\").getOrCreate()\n",
    "\n",
    "# read in the dataset into pyspark DataFrame\n",
    "movie_ratings = spark.read.json('../../api/interactions_70.json')\n",
    "movie_ratings = movie_ratings.drop('timestamp')"
   ]
  },
  {
   "cell_type": "code",
   "execution_count": 59,
   "metadata": {},
   "outputs": [
    {
     "data": {
      "text/plain": [
       "['movie_id', 'rating', 'user_id']"
      ]
     },
     "execution_count": 59,
     "metadata": {},
     "output_type": "execute_result"
    }
   ],
   "source": [
    "movie_ratings.columns"
   ]
  },
  {
   "cell_type": "code",
   "execution_count": 61,
   "metadata": {},
   "outputs": [
    {
     "name": "stderr",
     "output_type": "stream",
     "text": [
      "                                                                                \r"
     ]
    },
    {
     "name": "stdout",
     "output_type": "stream",
     "text": [
      "1.0194220035628454\n"
     ]
    }
   ],
   "source": [
    "from pyspark.ml.evaluation import RegressionEvaluator\n",
    "from pyspark.ml.recommendation import ALS\n",
    "\n",
    "# split into training and testing sets\n",
    "(training, test) = movie_ratings.randomSplit([.8, .2])\n",
    "\n",
    "# Build the recommendation model using ALS on the training data\n",
    "# Note we set cold start strategy to 'drop' to ensure we don't get NaN evaluation metrics\n",
    "als = ALS(maxIter=5, rank=4, regParam=0.01, userCol='user_id', itemCol='movie_id', ratingCol='rating', coldStartStrategy='drop')\n",
    "\n",
    "# fit the ALS model to the training set\n",
    "model=als.fit(training)\n",
    "\n",
    "# Evaluate the model by computing the RMSE on the test data\n",
    "predictions = model.transform(test)\n",
    "evaluator = RegressionEvaluator(metricName='rmse', labelCol='rating', predictionCol='prediction')\n",
    "rmse = evaluator.evaluate(predictions)\n",
    "print(rmse)"
   ]
  },
  {
   "cell_type": "code",
   "execution_count": 120,
   "metadata": {},
   "outputs": [
    {
     "name": "stderr",
     "output_type": "stream",
     "text": [
      "/tmp/ipykernel_303941/3951154973.py:12: DeprecationWarning: The 'body' parameter is deprecated for the 'search' API and will be removed in a future version. Instead use API parameters directly. See https://github.com/elastic/elasticsearch-py/issues/1698 for more information\n",
      "  result = client.search(index='users', body=query)\n",
      "/home/like/.local/lib/python3.10/site-packages/elasticsearch/connection/base.py:200: ElasticsearchWarning: Elasticsearch built-in security features are not enabled. Without authentication, your cluster could be accessible to anyone. See https://www.elastic.co/guide/en/elasticsearch/reference/7.17/security-minimal-setup.html to enable security.\n",
      "  warnings.warn(message, category=ElasticsearchWarning)\n"
     ]
    },
    {
     "data": {
      "text/plain": [
       "[{'_index': 'users',\n",
       "  '_type': '_doc',\n",
       "  '_id': '7BOcXowBdrQGnaV-yl5h',\n",
       "  '_score': 1.0,\n",
       "  '_source': {'user_id': 4,\n",
       "   'age': 24,\n",
       "   'gender': 'M',\n",
       "   'occupation': 'technician',\n",
       "   'zip': '43537'}}]"
      ]
     },
     "execution_count": 120,
     "metadata": {},
     "output_type": "execute_result"
    }
   ],
   "source": [
    "from elasticsearch import Elasticsearch\n",
    "\n",
    "\n",
    "client = Elasticsearch('localhost:9200')\n",
    "\n",
    "query = {\n",
    "    'query': {\n",
    "        'term': {'user_id': 4}\n",
    "    }\n",
    "}\n",
    "\n",
    "result = client.search(index='users', body=query)\n",
    "user = result['hits']['hits']\n",
    "user"
   ]
  },
  {
   "cell_type": "code",
   "execution_count": 56,
   "metadata": {},
   "outputs": [
    {
     "name": "stderr",
     "output_type": "stream",
     "text": [
      "                                                                                \r"
     ]
    }
   ],
   "source": [
    "from pyspark.ml.tuning import CrossValidator, ParamGridBuilder\n",
    "\n",
    "# initialize the ALS model\n",
    "als_model = ALS(userCol='user_id', itemCol='movie_id', ratingCol='rating', coldStartStrategy='drop')\n",
    "\n",
    "# create the parameter grid\n",
    "params = ParamGridBuilder().addGrid(als_model.regParam, [.01, .05, .1, .15]).addGrid(als_model.rank, [10, 50, 100, 150]).build()\n",
    "\n",
    "#instantiating crossvalidator estimator\n",
    "cv = CrossValidator(estimator=als_model, estimatorParamMaps=params, evaluator=evaluator, parallelism=4)\n",
    "\n",
    "best_model = cv.fit(movie_ratings)\n",
    "model = best_model.bestModel"
   ]
  },
  {
   "cell_type": "code",
   "execution_count": 62,
   "metadata": {},
   "outputs": [
    {
     "name": "stdout",
     "output_type": "stream",
     "text": [
      "0.9386572512673913\n"
     ]
    }
   ],
   "source": [
    "final_als = ALS(maxIter=10, rank=50, regParam=0.15, userCol='user_id', itemCol='movie_id', ratingCol='rating', coldStartStrategy='drop')\n",
    "\n",
    "final_model = final_als.fit(training)\n",
    "\n",
    "test_predictions = final_model.transform(test)\n",
    "RMSE = evaluator.evaluate(test_predictions)\n",
    "print(RMSE)"
   ]
  },
  {
   "cell_type": "code",
   "execution_count": 64,
   "metadata": {},
   "outputs": [],
   "source": [
    "final_model.save('good_model')"
   ]
  },
  {
   "cell_type": "code",
   "execution_count": 84,
   "metadata": {},
   "outputs": [
    {
     "name": "stderr",
     "output_type": "stream",
     "text": [
      "/tmp/ipykernel_303941/1412659544.py:27: DeprecationWarning: The 'body' parameter is deprecated for the 'search' API and will be removed in a future version. Instead use API parameters directly. See https://github.com/elastic/elasticsearch-py/issues/1698 for more information\n",
      "  user_interactions_result = client.search(index=\"interactions\", body=user_interactions_query)\n",
      "/home/like/.local/lib/python3.10/site-packages/elasticsearch/connection/base.py:200: ElasticsearchWarning: Elasticsearch built-in security features are not enabled. Without authentication, your cluster could be accessible to anyone. See https://www.elastic.co/guide/en/elasticsearch/reference/7.17/security-minimal-setup.html to enable security.\n",
      "  warnings.warn(message, category=ElasticsearchWarning)\n"
     ]
    }
   ],
   "source": [
    "from pyspark.ml.recommendation import ALSModel\n",
    "from pyspark.sql import SparkSession\n",
    "from elasticsearch import Elasticsearch\n",
    "\n",
    "client = Elasticsearch(\n",
    "    \"http://localhost:9200\",\n",
    ")\n",
    "\n",
    "# Create a Spark session\n",
    "spark = SparkSession.builder.appName(\"movie_recommendation\").getOrCreate()\n",
    "\n",
    "# Load the ALS model\n",
    "model_path = \"../../app/model/good_model\"  # Update with the actual path\n",
    "als_model = ALSModel.load(model_path)\n",
    "\n",
    "# User for whom you want to recommend movies\n",
    "user_id_to_recommend = 123  # Replace with the actual user ID\n",
    "\n",
    "# Load user interactions from Elasticsearch\n",
    "user_interactions_query = {\n",
    "    \"query\": {\n",
    "        \"term\": {\"user_id\": user_id_to_recommend}\n",
    "    }\n",
    "}\n",
    "\n",
    "# Assuming your Elasticsearch index for user interactions is named 'interactions'\n",
    "user_interactions_result = client.search(index=\"interactions\", body=user_interactions_query)\n",
    "user_interactions = user_interactions_result[\"hits\"][\"hits\"]\n"
   ]
  },
  {
   "cell_type": "code",
   "execution_count": 110,
   "metadata": {},
   "outputs": [],
   "source": [
    "# Create a DataFrame with the user's movie interactions\n",
    "user_interactions_df = spark.createDataFrame(\n",
    "    [(interaction[\"_source\"][\"user_id\"], interaction[\"_source\"][\"movie_id\"]) for interaction in user_interactions],\n",
    "    [\"user_id\", \"movie_id\"]\n",
    ")\n",
    "\n",
    "# Get the movie IDs for which the user has not provided ratings\n",
    "user_unrated_movies_df = als_model.itemFactors.select(\"id\").subtract(user_interactions_df.select(\"movie_id\"))"
   ]
  },
  {
   "cell_type": "code",
   "execution_count": 115,
   "metadata": {},
   "outputs": [],
   "source": [
    "# user_unrated_movies_df.show()"
   ]
  },
  {
   "cell_type": "code",
   "execution_count": 112,
   "metadata": {},
   "outputs": [],
   "source": [
    "from pyspark.sql.functions import col\n",
    "from pyspark.sql.functions import lit\n",
    "\n",
    "# Add a constant user ID to the unrated movies DataFrame\n",
    "user_id_to_recommend = 123  # Replace with the actual user ID\n",
    "user_unrated_movies_df = user_unrated_movies_df.withColumn(\"user_id\", lit(user_id_to_recommend))"
   ]
  },
  {
   "cell_type": "code",
   "execution_count": 1,
   "metadata": {},
   "outputs": [],
   "source": [
    "# Apply ALS model to generate predictions for unrated movies\n",
    "als_model_predictions = als_model.transform(user_unrated_movies_df).select(\n",
    "    col(\"user_id\"),\n",
    "    col(\"id\").alias(\"movie_id\"),  # Corrected alias from \"movie_id\" to \"id\"\n",
    "    col(\"prediction\").alias(\"als_prediction\")\n",
    ")\n",
    "\n",
    "# Display the ALS model predictions for unrated movies\n",
    "als_model_predictions.show()\n"
   ]
  },
  {
   "cell_type": "code",
   "execution_count": null,
   "metadata": {},
   "outputs": [],
   "source": [
    "\n",
    "# Rename the columns to match the ALS model input\n",
    "user_unrated_movies_df = user_unrated_movies_df.selectExpr(\"id as user_id\", \"id as movie_id\")"
   ]
  }
 ],
 "metadata": {
  "kernelspec": {
   "display_name": "Python 3",
   "language": "python",
   "name": "python3"
  },
  "language_info": {
   "codemirror_mode": {
    "name": "ipython",
    "version": 3
   },
   "file_extension": ".py",
   "mimetype": "text/x-python",
   "name": "python",
   "nbconvert_exporter": "python",
   "pygments_lexer": "ipython3",
   "version": "3.10.12"
  }
 },
 "nbformat": 4,
 "nbformat_minor": 2
}
